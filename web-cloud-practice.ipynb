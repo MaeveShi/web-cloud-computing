{
 "cells": [
  {
   "cell_type": "code",
   "execution_count": 13,
   "id": "e682dca3-bd76-4b90-99d6-74a0b3458e68",
   "metadata": {},
   "outputs": [],
   "source": [
    "import re\n",
    "import os\n",
    "import glob\n",
    "import zipfile\n",
    "import requests\n",
    "from urllib.request import urlretrieve\n",
    "import json\n",
    "import pandas as pd\n",
    "import rpy2"
   ]
  },
  {
   "cell_type": "code",
   "execution_count": 3,
   "id": "730606ca-0cd6-4b0d-900d-d38b36ae261c",
   "metadata": {},
   "outputs": [],
   "source": [
    "article_id = 14226968  \n",
    "url = f\"https://api.figshare.com/v2/articles/{article_id}\"\n",
    "headers = {\"Content-Type\": \"application/json\"}\n",
    "output_directory = \"figshareairline/\""
   ]
  },
  {
   "cell_type": "code",
   "execution_count": 4,
   "id": "7ee748a0-2266-4521-a437-8e5ab8fe2cc2",
   "metadata": {},
   "outputs": [
    {
     "data": {
      "text/plain": [
       "[{'id': 26844650,\n",
       "  'name': 'allyears.csv.zip',\n",
       "  'size': 2405908113,\n",
       "  'is_link_only': False,\n",
       "  'download_url': 'https://ndownloader.figshare.com/files/26844650',\n",
       "  'supplied_md5': '9e046ac05ecd2c32a256a47dd1098b81',\n",
       "  'computed_md5': '9e046ac05ecd2c32a256a47dd1098b81'},\n",
       " {'id': 26863682,\n",
       "  'name': 'individual_years.zip',\n",
       "  'size': 1896206676,\n",
       "  'is_link_only': False,\n",
       "  'download_url': 'https://ndownloader.figshare.com/files/26863682',\n",
       "  'supplied_md5': '921da748974b07b2a70bbfcc04535a77',\n",
       "  'computed_md5': '921da748974b07b2a70bbfcc04535a77'},\n",
       " {'id': 27515426,\n",
       "  'name': 'combined_model_data.csv.zip',\n",
       "  'size': 821308997,\n",
       "  'is_link_only': False,\n",
       "  'download_url': 'https://ndownloader.figshare.com/files/27515426',\n",
       "  'supplied_md5': '7638434c44a7d29cbb29fe200b4fd65d',\n",
       "  'computed_md5': '7638434c44a7d29cbb29fe200b4fd65d'},\n",
       " {'id': 27520682,\n",
       "  'name': 'combined_model_data_parti.parquet.zip',\n",
       "  'size': 519743915,\n",
       "  'is_link_only': False,\n",
       "  'download_url': 'https://ndownloader.figshare.com/files/27520682',\n",
       "  'supplied_md5': '02f4e3df8d16580a02291de225072689',\n",
       "  'computed_md5': '02f4e3df8d16580a02291de225072689'},\n",
       " {'id': 27520808,\n",
       "  'name': 'combined_model_data.parquet',\n",
       "  'size': 565872005,\n",
       "  'is_link_only': False,\n",
       "  'download_url': 'https://ndownloader.figshare.com/files/27520808',\n",
       "  'supplied_md5': 'ae63699ab21ffa8006559c6afbcd2271',\n",
       "  'computed_md5': 'ae63699ab21ffa8006559c6afbcd2271'}]"
      ]
     },
     "execution_count": 4,
     "metadata": {},
     "output_type": "execute_result"
    }
   ],
   "source": [
    "response = requests.request(\"GET\", url, headers=headers)\n",
    "data = json.loads(response.text)  # this contains all the articles data, feel free to check it out\n",
    "files = data[\"files\"]             # this is just the data about the files, which is what we want\n",
    "files"
   ]
  },
  {
   "cell_type": "code",
   "execution_count": 5,
   "id": "eaaff089-8d86-4070-999e-f9513f314360",
   "metadata": {},
   "outputs": [
    {
     "name": "stdout",
     "output_type": "stream",
     "text": [
      "CPU times: user 8.84 s, sys: 21.2 s, total: 30.1 s\n",
      "Wall time: 3min 42s\n"
     ]
    }
   ],
   "source": [
    "%%time\n",
    "files_to_dl = [\"individual_years.zip\"]  # feel free to add other files here\n",
    "for file in files:\n",
    "    if file[\"name\"] in files_to_dl:\n",
    "        os.makedirs(output_directory, exist_ok=True)\n",
    "        urlretrieve(file[\"download_url\"], output_directory + file[\"name\"])"
   ]
  },
  {
   "cell_type": "code",
   "execution_count": 7,
   "id": "79687431-1a38-4a57-85da-e0ac9bf52d15",
   "metadata": {},
   "outputs": [
    {
     "name": "stdout",
     "output_type": "stream",
     "text": [
      "CPU times: user 38 s, sys: 16.9 s, total: 54.9 s\n",
      "Wall time: 1min 25s\n"
     ]
    }
   ],
   "source": [
    "%%time\n",
    "with zipfile.ZipFile(os.path.join(output_directory, \"individual_years.zip\"), 'r') as f:\n",
    "    f.extractall(output_directory)"
   ]
  },
  {
   "cell_type": "code",
   "execution_count": 8,
   "id": "5c091a43-7772-4df4-a0d7-bacede6be6ce",
   "metadata": {},
   "outputs": [
    {
     "name": "stdout",
     "output_type": "stream",
     "text": [
      "CPU times: user 5min 44s, sys: 42.6 s, total: 6min 26s\n",
      "Wall time: 6min 59s\n"
     ]
    }
   ],
   "source": [
    "%%time\n",
    "import pandas as pd\n",
    "use_cols = [\"ArrDelay\", \"DepDelay\", \"Distance\", \"TailNum\",\"UniqueCarrier\",\"Origin\",\"Dest\"]\n",
    "files = glob.glob('figshareairline/individual_years/*.csv')\n",
    "df = pd.concat((pd.read_csv(file, index_col=0, usecols=use_cols)\n",
    "                .assign(year=re.findall(r'[^\\/]+(?=\\.)', file)[0])\n",
    "                for file in files)\n",
    "              )\n",
    "df.to_csv(\"figshareairline/combined_data.csv\")"
   ]
  },
  {
   "cell_type": "code",
   "execution_count": 11,
   "id": "aab44fc3-6fce-4111-908b-3f9c5ea8dfeb",
   "metadata": {},
   "outputs": [],
   "source": [
    "df.to_parquet(\"figshareairline/combined_data.parquet\")"
   ]
  },
  {
   "cell_type": "code",
   "execution_count": 15,
   "id": "50dd281d-adcd-4fb6-a17c-e74cabb5c420",
   "metadata": {},
   "outputs": [
    {
     "name": "stdout",
     "output_type": "stream",
     "text": [
      "3.1G\tfigshareairline/combined_data.csv\n",
      "417M\tfigshareairline/combined_data.parquet\n"
     ]
    }
   ],
   "source": [
    "%%sh\n",
    "du -sh figshareairline/combined_data.csv\n",
    "du -sh figshareairline/combined_data.parquet"
   ]
  },
  {
   "cell_type": "markdown",
   "id": "158fd5cd-df35-4ceb-9304-790cc293d70e",
   "metadata": {},
   "source": [
    "Parquet successfully reduced `combined_data.csv` from 3.1G to `combined_data.parquet` with 417M."
   ]
  },
  {
   "cell_type": "markdown",
   "id": "13835b56-391e-4c3f-9967-1bd4e364f126",
   "metadata": {},
   "source": [
    "<br>\n",
    "\n",
    "## Load dataframe through parquet in python"
   ]
  },
  {
   "cell_type": "code",
   "execution_count": 21,
   "id": "a42fd353-4524-47fb-9911-4035a2073049",
   "metadata": {},
   "outputs": [
    {
     "name": "stdout",
     "output_type": "stream",
     "text": [
      "                DepDelay\n",
      "UniqueCarrier           \n",
      "AA              8.763666\n",
      "CO             10.283951\n",
      "DL             12.411944\n",
      "HP             23.552827\n",
      "NW              6.363534\n",
      "TW              7.770502\n",
      "UA             12.685468\n",
      "US             11.438999\n",
      "CPU times: user 5.31 s, sys: 1.98 s, total: 7.29 s\n",
      "Wall time: 7.87 s\n"
     ]
    }
   ],
   "source": [
    "%%time\n",
    "df_py = pd.read_parquet('figshareairline/combined_data.parquet', \n",
    "                        filters=[('year', '=', '1996'), ('Origin', '=', 'ATL')],\n",
    "                       columns = ['UniqueCarrier', 'DepDelay'])\n",
    "print(df_py.groupby('UniqueCarrier').mean('DepDelay'))"
   ]
  },
  {
   "cell_type": "markdown",
   "id": "61e107e5-c1b4-4a05-a4aa-00c324d25053",
   "metadata": {},
   "source": [
    "In python it takes total 7.29s to load and perform the computation."
   ]
  },
  {
   "cell_type": "markdown",
   "id": "e5173c50-ea6a-4bd4-902d-38acadf67b73",
   "metadata": {},
   "source": [
    "<br>\n",
    "load dataframe through parquet in R"
   ]
  },
  {
   "cell_type": "code",
   "execution_count": 15,
   "id": "79e077e5-fbd0-40b5-9a96-3c6f7aca29f3",
   "metadata": {},
   "outputs": [],
   "source": [
    "%load_ext rpy2.ipython"
   ]
  },
  {
   "cell_type": "code",
   "execution_count": 35,
   "id": "57ff4a58-56e0-4470-a806-fc25cbc1caad",
   "metadata": {},
   "outputs": [
    {
     "name": "stdout",
     "output_type": "stream",
     "text": [
      "CPU times: user 50.2 ms, sys: 4.13 ms, total: 54.3 ms\n",
      "Wall time: 64.4 ms\n"
     ]
    }
   ],
   "source": [
    "%%time\n",
    "%%R\n",
    "suppressMessages(library(dplyr))\n",
    "suppressMessages(library(arrow))\n",
    "df_r <- open_dataset('figshareairline/combined_data.parquet') |>\n",
    "    filter(year == 1996, Origin == 'ATL') |>\n",
    "    select(UniqueCarrier, DepDelay) |>\n",
    "    group_by(UniqueCarrier) |>\n",
    "    summarise(avg = mean(DepDelay))\n",
    "\n"
   ]
  },
  {
   "cell_type": "markdown",
   "id": "b2d6fa53-411f-47cf-9f88-350ce5ac377c",
   "metadata": {},
   "source": [
    "in r it takes total 44.2ms to load and perform the computation, much faster! thanks to the lazy evaluation. "
   ]
  },
  {
   "cell_type": "code",
   "execution_count": null,
   "id": "a283c859-5796-4f32-ab0a-ab4ebab9a757",
   "metadata": {},
   "outputs": [],
   "source": []
  }
 ],
 "metadata": {
  "kernelspec": {
   "display_name": "Python [conda env:525_2022]",
   "language": "python",
   "name": "conda-env-525_2022-py"
  },
  "language_info": {
   "codemirror_mode": {
    "name": "ipython",
    "version": 3
   },
   "file_extension": ".py",
   "mimetype": "text/x-python",
   "name": "python",
   "nbconvert_exporter": "python",
   "pygments_lexer": "ipython3",
   "version": "3.8.6"
  }
 },
 "nbformat": 4,
 "nbformat_minor": 5
}
